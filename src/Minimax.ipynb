{
 "cells": [
  {
   "cell_type": "code",
   "execution_count": 1,
   "id": "8225b548",
   "metadata": {},
   "outputs": [],
   "source": [
    "import random\n",
    "from env import TicTacToeEnv, agent_by_mark, check_game_status, after_action_state, tomark, next_mark\n",
    "import numpy as np\n",
    "import random\n",
    "import matplotlib.pylab as plt"
   ]
  },
  {
   "cell_type": "markdown",
   "id": "96b96885",
   "metadata": {},
   "source": [
    "# Tree definition"
   ]
  },
  {
   "cell_type": "code",
   "execution_count": 2,
   "id": "28d5a4dd",
   "metadata": {},
   "outputs": [],
   "source": [
    "import weakref\n",
    "class TreeNode(object):\n",
    "    _instances = set()\n",
    "    def __init__(self, data, parent=None):\n",
    "        self.data = data\n",
    "        self.children = []\n",
    "        self.parent = parent\n",
    "        self._instances.add(weakref.ref(self))\n",
    "\n",
    "    def add_child(self, obj):\n",
    "        self.children.append(obj)\n",
    "        obj.parent = self\n",
    "    \n",
    "    def print(self):\n",
    "        env1 = TicTacToeEnv()\n",
    "        env1.set_start_mark('X') # start_mark\n",
    "        intial_state = env1.set_to_state(to_state=self.data['state'])\n",
    "        env1.render()\n",
    "        \n",
    "    @classmethod\n",
    "    def getinstances(cls):\n",
    "        dead = set()\n",
    "        for ref in cls._instances:\n",
    "            obj = ref()\n",
    "            if obj is not None:\n",
    "                yield obj\n",
    "            else:\n",
    "                dead.add(ref)\n",
    "        cls._instances -= dead\n",
    "\n",
    "class Tree:\n",
    "    def __init__(self):\n",
    "        self.root = TreeNode({'state':\"ROOT\"})   "
   ]
  },
  {
   "cell_type": "code",
   "execution_count": 3,
   "id": "b94cd451",
   "metadata": {},
   "outputs": [],
   "source": [
    "def get_leaves(node):\n",
    "    if not node.children:\n",
    "        yield node\n",
    "\n",
    "    for child in node.children:\n",
    "        for leaf in get_leaves(child):\n",
    "             yield leaf"
   ]
  },
  {
   "cell_type": "markdown",
   "id": "507a988f",
   "metadata": {},
   "source": [
    "# Minmax without sampling"
   ]
  },
  {
   "cell_type": "markdown",
   "id": "34a9ebf5",
   "metadata": {},
   "source": [
    "## Building Tree "
   ]
  },
  {
   "cell_type": "code",
   "execution_count": 4,
   "id": "47d4ce89",
   "metadata": {},
   "outputs": [],
   "source": [
    "def travarse_tree(current_node, done):\n",
    "    \n",
    "    if not done and current_node.data['ava_actions']:\n",
    "        action = current_node.data['ava_actions'][0]\n",
    "        state = env.set_to_state(current_node.data['state'])\n",
    "            \n",
    "        new_state, reward, done, info = env.step(action) # take action\n",
    "        current_node.data['ava_actions'].remove(action) # removing the action taken from memory\n",
    "\n",
    "        new_node_data = {}\n",
    "        new_node_data['state'] = new_state\n",
    "        new_node_data['level'] = current_node.data['level'] + 1 # increase to new level\n",
    "        new_node_data['ava_actions'] = env.available_actions() # available actions in new state\n",
    "        new_node_data['reward'] = reward  # reward obtained in reaching the new state\n",
    "        new_node_data['action'] = action  # action that has brought to new state\n",
    "        new_node_data['mms_values'] = {}\n",
    "        new_node_data['pr_values'] = {}\n",
    "        new_node_data['mms_progress'] = {}\n",
    "        new_node_data['pr_progress'] = {}\n",
    "        if done:\n",
    "            new_node_data['mm_value'] = reward\n",
    "        else:\n",
    "            new_node_data['mm_value'] = None\n",
    "        new_node = TreeNode(new_node_data)\n",
    "        current_node.add_child(new_node)  # saving new state values in the new node\n",
    "        current_node = new_node\n",
    "        return travarse_tree(current_node, done) # go to next step\n",
    "        \n",
    "    elif current_node.data['action'] != None: # check for reaching root node\n",
    "        current_node = current_node.parent\n",
    "        done = False\n",
    "        return travarse_tree(current_node, done)"
   ]
  },
  {
   "cell_type": "code",
   "execution_count": 5,
   "id": "429883d8",
   "metadata": {},
   "outputs": [],
   "source": [
    "# build_full_tree\n",
    "\n",
    "env = TicTacToeEnv()\n",
    "env.set_start_mark('X') # start_mark\n",
    "# state = env.set_to_state(to_state=((0,2,0,1,1,0,0,2,0),'X'))\n",
    "state = env.set_to_state()\n",
    "ava_actions = env.available_actions()\n",
    "\n",
    "tree = Tree()\n",
    "root_node = current_node = tree.root\n",
    "current_node.data['reward'] = 0\n",
    "current_node.data['action'] = None # action that has brought to new state\n",
    "current_node.data['ava_actions'] = ava_actions\n",
    "current_node.data['level'] = 0\n",
    "current_node.data['state'] = state\n",
    "current_node.data['mm_value'] = None\n",
    "current_node.data['mms_values'] = {}\n",
    "current_node.data['pr_values'] = {}\n",
    "current_node.data['mms_progress'] = {}\n",
    "current_node.data['pr_progress'] = {}\n",
    "done = False\n",
    "\n",
    "travarse_tree(current_node, done)"
   ]
  },
  {
   "cell_type": "code",
   "execution_count": 6,
   "id": "67f09ede",
   "metadata": {},
   "outputs": [
    {
     "data": {
      "text/plain": [
       "102"
      ]
     },
     "execution_count": 6,
     "metadata": {},
     "output_type": "execute_result"
    }
   ],
   "source": [
    "len(list(get_leaves(root_node)))"
   ]
  },
  {
   "cell_type": "markdown",
   "id": "c7f920fb",
   "metadata": {},
   "source": [
    "## Model"
   ]
  },
  {
   "cell_type": "code",
   "execution_count": 7,
   "id": "f9b6b68d",
   "metadata": {},
   "outputs": [],
   "source": [
    "leaf_nodes = list(get_leaves(root_node))\n",
    "current_node = list(get_leaves(root_node))[0]\n",
    "\n",
    "def minimax_without_sampling(current_node):\n",
    "    \n",
    "    if current_node in leaf_nodes:\n",
    "        parent_node = current_node.parent\n",
    "        return minimax_without_sampling(parent_node)\n",
    "    \n",
    "    else:  # compare values of children and update current node value\n",
    "        children = current_node.children\n",
    "        none_value_children = [child for child in children if (child.data['mm_value']==None)]\n",
    "        if none_value_children:\n",
    "            return minimax_without_sampling(none_value_children[0])\n",
    "        else:  \n",
    "            children_values = [child.data['mm_value'] for child in children]\n",
    "            if current_node.data['state'][1] == 'X':\n",
    "                opti_action_idx = np.argmax(children_values)          \n",
    "            else:\n",
    "                opti_action_idx =  np.argmin(children_values)\n",
    "            current_node.data['mm_value'] = children_values[opti_action_idx]\n",
    "            current_node.data['mm_opti_action'] = children[opti_action_idx].data['action']\n",
    "\n",
    "            if current_node.data['action'] == None:  # check for reaching root node\n",
    "                print(current_node.data)\n",
    "            else:\n",
    "                parent_node = current_node.parent  # after comparision go to parent node\n",
    "                return minimax_without_sampling(parent_node)"
   ]
  },
  {
   "cell_type": "markdown",
   "id": "70354b71",
   "metadata": {},
   "source": [
    "## Results"
   ]
  },
  {
   "cell_type": "code",
   "execution_count": 8,
   "id": "b831195c",
   "metadata": {},
   "outputs": [
    {
     "name": "stdout",
     "output_type": "stream",
     "text": [
      "{'state': ((0, 2, 0, 1, 1, 2, 0, 0, 0), 'X'), 'reward': 0, 'action': None, 'ava_actions': [], 'level': 0, 'mm_value': 1, 'mms_values': {}, 'pr_values': {}, 'mms_progress': {}, 'pr_progress': {}, 'mm_opti_action': 0}\n"
     ]
    }
   ],
   "source": [
    "leaf_nodes = list(get_leaves(root_node))\n",
    "current_node = list(get_leaves(root_node))[0]\n",
    "\n",
    "minimax_without_sampling(current_node)"
   ]
  },
  {
   "cell_type": "code",
   "execution_count": 9,
   "id": "dea9029a",
   "metadata": {},
   "outputs": [
    {
     "name": "stdout",
     "output_type": "stream",
     "text": [
      "   |O| \n",
      "  -----\n",
      "  X|X|O\n",
      "  -----\n",
      "   | | \n",
      "\n"
     ]
    }
   ],
   "source": [
    "root_node.print()"
   ]
  },
  {
   "cell_type": "code",
   "execution_count": 10,
   "id": "d3ce7083",
   "metadata": {},
   "outputs": [
    {
     "name": "stdout",
     "output_type": "stream",
     "text": [
      "Action  0 leads to a  winning (p1) game  with 100% probability\n",
      "Action  2 leads to a  draw game  with 100% probability\n",
      "Action  6 leads to a  winning (p1) game  with 100% probability\n",
      "Action  7 leads to a  loosing (p1) game  with 100% probability\n",
      "Action  8 leads to a  draw game  with 100% probability\n"
     ]
    }
   ],
   "source": [
    "# supposing that both p1 and p2 play optimally\n",
    "for first_move in root_node.children:\n",
    "    if first_move.data['mm_value'] == 1:\n",
    "        result = \"winning (p1) game\"\n",
    "    elif first_move.data['mm_value'] == 0:\n",
    "        result = \"draw game\"\n",
    "    else:\n",
    "        result = \"loosing (p1) game\"\n",
    "    print(\"Action \", first_move.data['action'], \"leads to a \", result, \" with 100% probability\")"
   ]
  },
  {
   "cell_type": "code",
   "execution_count": 14,
   "id": "85d0c9af",
   "metadata": {},
   "outputs": [
    {
     "name": "stdout",
     "output_type": "stream",
     "text": [
      "Action  0 leads to a winning (p1) game  with 66.66666666666666% probability\n",
      "Action  2 leads to a winning (p1) game  with 61.904761904761905% probability\n",
      "Action  6 leads to a winning (p1) game  with 66.66666666666666% probability\n",
      "Action  7 leads to a winning (p1) game  with 33.33333333333333% probability\n",
      "Action  8 leads to a winning (p1) game  with 61.904761904761905% probability\n"
     ]
    }
   ],
   "source": [
    "# supposing both players play randomly\n",
    "for first_move in root_node.children:\n",
    "    leaves_form_this_move = list(get_leaves(first_move))\n",
    "    winning_leaves = [leaf for leaf in leaves_form_this_move if leaf.data['mm_value']==1]\n",
    "    prob_percent = (len(winning_leaves)/len(leaves_form_this_move))*100\n",
    "    print(\"Action \", first_move.data['action'], \"leads to a winning (p1) game\", f\" with {prob_percent}% probability\")"
   ]
  },
  {
   "cell_type": "code",
   "execution_count": 15,
   "id": "98a4a0eb",
   "metadata": {},
   "outputs": [
    {
     "name": "stdout",
     "output_type": "stream",
     "text": [
      "Action  0 leads to a draw game  with 22.22222222222222% probability\n",
      "Action  2 leads to a draw game  with 38.095238095238095% probability\n",
      "Action  6 leads to a draw game  with 0.0% probability\n",
      "Action  7 leads to a draw game  with 33.33333333333333% probability\n",
      "Action  8 leads to a draw game  with 19.047619047619047% probability\n"
     ]
    }
   ],
   "source": [
    "# supposing both players play randomly\n",
    "for first_move in root_node.children:\n",
    "    leaves_form_this_move = list(get_leaves(first_move))\n",
    "    winning_leaves = [leaf for leaf in leaves_form_this_move if leaf.data['mm_value']==0]\n",
    "    prob_percent = (len(winning_leaves)/len(leaves_form_this_move))*100\n",
    "    print(\"Action \", first_move.data['action'], \"leads to a draw game\", f\" with {prob_percent}% probability\")"
   ]
  },
  {
   "cell_type": "code",
   "execution_count": 16,
   "id": "66ef08be",
   "metadata": {},
   "outputs": [
    {
     "name": "stdout",
     "output_type": "stream",
     "text": [
      "Action  0 leads to a loosing (p1) game  with 11.11111111111111% probability\n",
      "Action  2 leads to a loosing (p1) game  with 0.0% probability\n",
      "Action  6 leads to a loosing (p1) game  with 33.33333333333333% probability\n",
      "Action  7 leads to a loosing (p1) game  with 33.33333333333333% probability\n",
      "Action  8 leads to a loosing (p1) game  with 19.047619047619047% probability\n"
     ]
    }
   ],
   "source": [
    "# supposing both players play randomly\n",
    "for first_move in root_node.children:\n",
    "    leaves_form_this_move = list(get_leaves(first_move))\n",
    "    winning_leaves = [leaf for leaf in leaves_form_this_move if leaf.data['mm_value']==-1]\n",
    "    prob_percent = (len(winning_leaves)/len(leaves_form_this_move))*100\n",
    "    print(\"Action \", first_move.data['action'], \"leads to a loosing (p1) game\", f\" with {prob_percent}% probability\")"
   ]
  },
  {
   "cell_type": "markdown",
   "id": "46979d49",
   "metadata": {},
   "source": [
    "# Minmax with sampling"
   ]
  },
  {
   "cell_type": "markdown",
   "id": "8bcbcca4",
   "metadata": {},
   "source": [
    "## Sampling"
   ]
  },
  {
   "cell_type": "code",
   "execution_count": 18,
   "id": "813577f3",
   "metadata": {},
   "outputs": [],
   "source": [
    "def get_trajectory(node, trajectory):\n",
    "    if node!=root_node:\n",
    "        trajectory.append(node)\n",
    "        return get_trajectory(node.parent, trajectory)\n",
    "    else:\n",
    "        return trajectory"
   ]
  },
  {
   "cell_type": "code",
   "execution_count": 19,
   "id": "07ee4ad9",
   "metadata": {},
   "outputs": [],
   "source": [
    "def generate_sampled_tree(n_samples):\n",
    "    # list of nodes from root to leaf\n",
    "    leaves = random.choices(list(get_leaves(root_node)), k=n_samples)\n",
    "    sampled_tree = {}\n",
    "    for i, leaf in enumerate(leaves):\n",
    "        trajectory = get_trajectory(leaf, [])\n",
    "        for node in trajectory:\n",
    "            if node in sampled_tree:\n",
    "                sampled_tree[node] += 1\n",
    "            else:\n",
    "                sampled_tree[node] = 1\n",
    "    return sampled_tree"
   ]
  },
  {
   "cell_type": "markdown",
   "id": "f87de244",
   "metadata": {},
   "source": [
    "## Model"
   ]
  },
  {
   "cell_type": "code",
   "execution_count": 20,
   "id": "81656fde",
   "metadata": {},
   "outputs": [],
   "source": [
    "def minimax_with_sampling(current_node, sampled_tree, i, leaf_nodes):\n",
    "    if current_node in leaf_nodes:\n",
    "        current_node.data['mms_values'][i] = current_node.data['reward']\n",
    "        parent_node = current_node.parent\n",
    "        return minimax_with_sampling(parent_node, sampled_tree, i, leaf_nodes)\n",
    "    \n",
    "    else:  # compare values of children and update current node value\n",
    "        children = [child for child in current_node.children if (child in sampled_tree)]\n",
    "        none_value_children = [child for child in children if (i not in child.data['mms_values'])]\n",
    "        if none_value_children:\n",
    "            return minimax_with_sampling(none_value_children[0], sampled_tree, i, leaf_nodes)\n",
    "        else:  \n",
    "            children_values = [child.data['mms_values'][i] for child in children]\n",
    "            if current_node.data['state'][1] == 'X':\n",
    "                opti_action_idx = np.argmax(children_values)          \n",
    "            else:\n",
    "                opti_action_idx =  np.argmin(children_values)\n",
    "            current_node.data['mms_values'][i] = children_values[opti_action_idx]\n",
    "\n",
    "            if current_node.data['action'] != None:  # check for reaching root node\n",
    "                parent_node = current_node.parent  # after comparision go to parent node\n",
    "                return minimax_with_sampling(parent_node, sampled_tree, i, leaf_nodes)                "
   ]
  },
  {
   "cell_type": "markdown",
   "id": "c1d56bea",
   "metadata": {},
   "source": [
    "## Results"
   ]
  },
  {
   "cell_type": "code",
   "execution_count": 21,
   "id": "a8560bfe",
   "metadata": {},
   "outputs": [],
   "source": [
    "n_simulations = 1000\n",
    "n_sampled_trajectories = 400\n",
    "for i in range(n_simulations):\n",
    "    sampled_tree = generate_sampled_tree(n_samples=n_sampled_trajectories)\n",
    "    leaf_nodes = [node for node in list(get_leaves(root_node)) if node in sampled_tree]\n",
    "    minimax_with_sampling(leaf_nodes[0], sampled_tree, i, leaf_nodes)"
   ]
  },
  {
   "cell_type": "code",
   "execution_count": 24,
   "id": "110d4fff",
   "metadata": {},
   "outputs": [],
   "source": [
    "leaf_nodes = list(get_leaves(root_node))\n",
    "# for node in root_node.children:\n",
    "for node in TreeNode.getinstances():\n",
    "    for i in node.data['mms_values'].keys():\n",
    "        mms_progress_value = 0\n",
    "        count = 0\n",
    "        for sim_n in node.data['mms_values'].keys():\n",
    "            if sim_n <= i:\n",
    "                count += 1\n",
    "                mms_progress_value += node.data['mms_values'][sim_n]\n",
    "#         if n_sampled_trajectories < len(leaf_nodes):\n",
    "#             count = (count*n_sampled_trajectories)/len(leaf_nodes)  #normalizing\n",
    "        node.data['mms_progress'][i]= mms_progress_value/count"
   ]
  },
  {
   "cell_type": "code",
   "execution_count": 25,
   "id": "c082f26e",
   "metadata": {},
   "outputs": [],
   "source": [
    "for node in root_node.children:\n",
    "# for node in TreeNode.getinstances():\n",
    "    if node not in leaf_nodes:\n",
    "        children = [child for child in node.children if (child.data['mms_progress'])]\n",
    "        children_values = [child.data['mms_progress'][max(child.data['mms_progress'].keys())] for child in children]\n",
    "        opti_action_idx = np.argmax(children_values)                                           \n",
    "        node.data['mms_opti_action'] = children[opti_action_idx].data['action']"
   ]
  },
  {
   "cell_type": "code",
   "execution_count": 26,
   "id": "e4b6d196",
   "metadata": {},
   "outputs": [
    {
     "data": {
      "image/png": "[encoded data removed]",
      "text/plain": [
       "<Figure size 432x288 with 1 Axes>"
      ]
     },
     "metadata": {
      "needs_background": "light"
     },
     "output_type": "display_data"
    }
   ],
   "source": [
    "for node in root_node.children:\n",
    "    lists = sorted(node.data['mms_progress'].items()) # sorted by key, return a list of tuples\n",
    "    x, y = zip(*lists) # unpack a list of pairs into two tuples\n",
    "    plt.plot(x,y, label=f\"action {node.data['action']}\")\n",
    "plt.title('Learning progress: for actions at start position')\n",
    "plt.xlabel('Iterations')\n",
    "plt.ylabel('Q value') \n",
    "plt.legend()\n",
    "plt.show()"
   ]
  },
  {
   "cell_type": "code",
   "execution_count": 42,
   "id": "441ea37d",
   "metadata": {},
   "outputs": [
    {
     "name": "stdout",
     "output_type": "stream",
     "text": [
      "Action  0  leads to a winning (p1) game with  0.968 % probability\n",
      "Action  2  leads to a winning (p1) game with  0.043 % probability\n",
      "Action  6  leads to a winning (p1) game with  0.957 % probability\n",
      "Action  7  leads to a winning (p1) game with  0.0 % probability\n",
      "Action  8  leads to a winning (p1) game with  0.037 % probability\n"
     ]
    }
   ],
   "source": [
    "# supposing both players play optimally\n",
    "\n",
    "mapping = {\n",
    "    0: {},\n",
    "    2: {},\n",
    "    6: {},\n",
    "    7: {},\n",
    "    8: {},\n",
    "}\n",
    "\n",
    "for first_move in root_node.children:\n",
    "    for i in first_move.data['mms_values'].keys():\n",
    "        win_count = 0\n",
    "        count = 0\n",
    "        for sim_n in first_move.data['mms_values'].keys():\n",
    "            if sim_n <= i:\n",
    "                count += 1\n",
    "                if first_move.data['mms_values'][sim_n]==1:\n",
    "                    win_count += 1\n",
    "        mapping[first_move.data['action']][i] = float(win_count/count)\n",
    "    print(\"Action \", first_move.data['action'],\" leads to a winning (p1) game with \",\n",
    "          mapping[first_move.data['action']][i], \"% probability\")"
   ]
  },
  {
   "cell_type": "code",
   "execution_count": 44,
   "id": "76b12149",
   "metadata": {},
   "outputs": [
    {
     "data": {
      "image/png": "[encoded data removed]",
      "text/plain": [
       "<Figure size 432x288 with 1 Axes>"
      ]
     },
     "metadata": {
      "needs_background": "light"
     },
     "output_type": "display_data"
    }
   ],
   "source": [
    "for key, dict_ in mapping.items():\n",
    "    plt.plot(*zip(*sorted(dict_.items())), label=f\"action {key}\")\n",
    "\n",
    "plt.title('Learning progress: Probability of winning by the actions')\n",
    "plt.xlabel('Iterations')\n",
    "plt.ylabel('Probability') \n",
    "plt.legend()\n",
    "plt.show()"
   ]
  }
 ],
 "metadata": {
  "kernelspec": {
   "display_name": "Python (ptorch)",
   "language": "python",
   "name": "ptorch"
  },
  "language_info": {
   "codemirror_mode": {
    "name": "ipython",
    "version": 3
   },
   "file_extension": ".py",
   "mimetype": "text/x-python",
   "name": "python",
   "nbconvert_exporter": "python",
   "pygments_lexer": "ipython3",
   "version": "3.6.13"
  }
 },
 "nbformat": 4,
 "nbformat_minor": 5
}
